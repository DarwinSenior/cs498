{
 "cells": [
  {
   "cell_type": "code",
   "execution_count": 1,
   "metadata": {
    "collapsed": true
   },
   "outputs": [],
   "source": [
    "import numpy as np\n",
    "import scipy as sp\n",
    "import sklearn as sk\n",
    "import pandas as pd\n",
    "import sklearn.cluster as skcluster\n",
    "# import seaborn as sns"
   ]
  },
  {
   "cell_type": "code",
   "execution_count": 126,
   "metadata": {
    "collapsed": true
   },
   "outputs": [],
   "source": [
    "def init_multi(x, K):\n",
    "    phi = x[np.random.randint(0, x.shape[0], K)]\n",
    "    phi = phi/np.sum(phi, axis=1).reshape((-1, 1))\n",
    "    pi = np.ones(K)/K\n",
    "    return (pi, phi)\n",
    "\n",
    "def E_multi(x, theta):\n",
    "    pi, phi = theta\n",
    "    N, I = x.shape\n",
    "    K = pi.size\n",
    "    w = np.log(phi).dot(x.T)+np.log(pi).reshape((-1,1))\n",
    "    w = w-sp.misc.logsumexp(w, axis=0)\n",
    "    w = np.exp(w)\n",
    "    return w\n",
    "\n",
    "def M_multi(x, w):\n",
    "    N = x.shape[0]\n",
    "    phi = w.dot(x)\n",
    "    phi = phi/phi.sum(axis=1).reshape((-1, 1))\n",
    "    pi = np.sum(w, axis=1)\n",
    "    pi = pi/np.sum(pi)\n",
    "    return (pi, phi)\n",
    "\n",
    "def init_normal(x, K):\n",
    "    clusters = skcluster.KMeans(n_clusters=K)\n",
    "    clusters.fit(x)\n",
    "    pi = np.bincount(clusters.predict(x))\n",
    "    mu = clusters.cluster_centers_    \n",
    "    pi.resize(K)\n",
    "    pi = (pi/np.sum(pi))*0.9+(0.1/K)\n",
    "    return (pi, mu)\n",
    "\n",
    "def E_normal(x, theta):\n",
    "    pi, mu = theta\n",
    "    N, I = x.shape\n",
    "    K = pi.size\n",
    "    w = -0.5*(np.ones((K,I)).dot((x*x).T)-2*(mu.dot(x.T))+(mu*mu).dot(np.ones((I,N))))\n",
    "    w += np.log(pi).reshape((-1,1))\n",
    "    w -= sp.misc.logsumexp(w, axis=0)\n",
    "    w = np.exp(w)\n",
    "    return w\n",
    "\n",
    "def M_normal(x, w):\n",
    "    N = x.shape[0]\n",
    "    pi = np.sum(w, axis=1)\n",
    "    mu = w.dot(x) / pi.reshape((-1, 1))\n",
    "    pi = pi/np.sum(pi)\n",
    "    return (pi, mu)\n",
    "    \n",
    "def EM(X, k, Estep, Mstep, Init=None, theta=None, iters=40):\n",
    "    if not theta:\n",
    "        theta = Init(X, k)\n",
    "    for i in range(iters):\n",
    "        e = Estep(X, theta)\n",
    "        theta = Mstep(X, e)\n",
    "    return theta"
   ]
  },
  {
   "cell_type": "code",
   "execution_count": 128,
   "metadata": {
    "collapsed": false
   },
   "outputs": [],
   "source": [
    "from PIL import Image\n",
    "from matplotlib.pyplot import imshow, figure\n",
    "%matplotlib inline\n",
    "\n",
    "pics = ['balloons', 'nature', 'polarlights', 'mountains', 'ocean']\n",
    "data = {}\n",
    "dshape = {}\n",
    "for pic in pics:\n",
    "    im = Image.open('test_images/%s.jpg'%pic)\n",
    "    data[pic] = np.asarray(im, dtype=np.float64)\n",
    "    d = data[pic]\n",
    "    H,W,_ = data[pic].shape\n",
    "    dshape[pic] = data[pic].shape\n",
    "    data[pic] = (data[pic]/256).reshape(H*W, 3)"
   ]
  },
  {
   "cell_type": "code",
   "execution_count": null,
   "metadata": {
    "collapsed": false
   },
   "outputs": [
    {
     "name": "stdout",
     "output_type": "stream",
     "text": [
      "10 balloons\n",
      "10 nature\n",
      "10 polarlights\n",
      "10 mountains\n",
      "10"
     ]
    }
   ],
   "source": [
    "def display(x, theta, shape):\n",
    "    N,I = x.shape\n",
    "    pi, mu = theta\n",
    "    K = pi.size\n",
    "    w = -0.5*(np.ones((K,I)).dot((x*x).T)-2*(mu.dot(x.T))+(mu*mu).dot(np.ones((I,N))))\n",
    "    pos = np.argmax(w, axis=0).reshape(N)\n",
    "    img = np.zeros((N, 3))\n",
    "    for i in range(K):\n",
    "        img[pos==i,:] = mu[i]\n",
    "    figure()\n",
    "    imshow(img.reshape(shape))\n",
    "    \n",
    "# theta = {}\n",
    "for r in [10, 20, 50]:\n",
    "    for pic in pics:\n",
    "        print(r, pic)\n",
    "        theta[(pic, r)] = init_normal(data[pic], r)  \n",
    "        display(data[pic], theta[(pic, r)], dshape[pic])"
   ]
  },
  {
   "cell_type": "code",
   "execution_count": 162,
   "metadata": {
    "collapsed": false
   },
   "outputs": [
    {
     "ename": "KeyError",
     "evalue": "('balloons', 10)",
     "output_type": "error",
     "traceback": [
      "\u001b[0;31m---------------------------------------------------------------------------\u001b[0m",
      "\u001b[0;31mKeyError\u001b[0m                                  Traceback (most recent call last)",
      "\u001b[0;32m<ipython-input-162-c315d69d09c3>\u001b[0m in \u001b[0;36m<module>\u001b[0;34m()\u001b[0m\n\u001b[1;32m      2\u001b[0m \u001b[0;32mfor\u001b[0m \u001b[0mr\u001b[0m \u001b[0;32min\u001b[0m \u001b[0;34m[\u001b[0m\u001b[0;36m10\u001b[0m\u001b[0;34m,\u001b[0m \u001b[0;36m20\u001b[0m\u001b[0;34m,\u001b[0m \u001b[0;36m50\u001b[0m\u001b[0;34m]\u001b[0m\u001b[0;34m:\u001b[0m\u001b[0;34m\u001b[0m\u001b[0m\n\u001b[1;32m      3\u001b[0m     \u001b[0;32mfor\u001b[0m \u001b[0mpic\u001b[0m \u001b[0;32min\u001b[0m \u001b[0mpics\u001b[0m\u001b[0;34m:\u001b[0m\u001b[0;34m\u001b[0m\u001b[0m\n\u001b[0;32m----> 4\u001b[0;31m         \u001b[0mtheta2\u001b[0m\u001b[0;34m[\u001b[0m\u001b[0;34m(\u001b[0m\u001b[0mpic\u001b[0m\u001b[0;34m,\u001b[0m \u001b[0mr\u001b[0m\u001b[0;34m)\u001b[0m\u001b[0;34m]\u001b[0m \u001b[0;34m=\u001b[0m \u001b[0mEM\u001b[0m\u001b[0;34m(\u001b[0m\u001b[0mdata\u001b[0m\u001b[0;34m[\u001b[0m\u001b[0mpic\u001b[0m\u001b[0;34m]\u001b[0m\u001b[0;34m,\u001b[0m \u001b[0;36m50\u001b[0m\u001b[0;34m,\u001b[0m \u001b[0mE_normal\u001b[0m\u001b[0;34m,\u001b[0m \u001b[0mM_normal\u001b[0m\u001b[0;34m,\u001b[0m \u001b[0mtheta\u001b[0m\u001b[0;34m=\u001b[0m\u001b[0mtheta\u001b[0m\u001b[0;34m[\u001b[0m\u001b[0;34m(\u001b[0m\u001b[0mpic\u001b[0m\u001b[0;34m,\u001b[0m\u001b[0mr\u001b[0m\u001b[0;34m)\u001b[0m\u001b[0;34m]\u001b[0m\u001b[0;34m,\u001b[0m \u001b[0miters\u001b[0m\u001b[0;34m=\u001b[0m\u001b[0;36m50\u001b[0m\u001b[0;34m)\u001b[0m\u001b[0;34m\u001b[0m\u001b[0m\n\u001b[0m\u001b[1;32m      5\u001b[0m         \u001b[0mdisplay\u001b[0m\u001b[0;34m(\u001b[0m\u001b[0mdata\u001b[0m\u001b[0;34m,\u001b[0m \u001b[0mtheta2\u001b[0m\u001b[0;34m[\u001b[0m\u001b[0;34m(\u001b[0m\u001b[0mpic\u001b[0m\u001b[0;34m,\u001b[0m \u001b[0mr\u001b[0m\u001b[0;34m)\u001b[0m\u001b[0;34m]\u001b[0m\u001b[0;34m,\u001b[0m \u001b[0mdshape\u001b[0m\u001b[0;34m)\u001b[0m\u001b[0;34m\u001b[0m\u001b[0m\n",
      "\u001b[0;31mKeyError\u001b[0m: ('balloons', 10)"
     ]
    }
   ],
   "source": [
    "theta2 = {}\n",
    "for r in [10, 20, 50]:\n",
    "    for pic in pics:\n",
    "        theta2[(pic, r)] = EM(data[pic], 50, E_normal, M_normal, theta=theta[(pic,r)], iters=50)\n",
    "        display(data, theta2[(pic, r)], dshape)"
   ]
  },
  {
   "cell_type": "code",
   "execution_count": 74,
   "metadata": {
    "collapsed": true
   },
   "outputs": [],
   "source": [
    "def words():\n",
    "    file = open('data/docword.nips.txt', 'r')\n",
    "    D,W,NNZ = (int(file.readline().strip()) for i in range(3))\n",
    "    X = np.zeros([D,W])\n",
    "    for line in file:\n",
    "        n,i,w = tuple(map(int, line.strip().split(' ')))\n",
    "        X[n-1,i-1] = w\n",
    "    return X\n",
    "\n",
    "words = words()+1\n",
    "pi2,phi2 = init_multi(words, 10)"
   ]
  },
  {
   "cell_type": "code",
   "execution_count": 111,
   "metadata": {
    "collapsed": false
   },
   "outputs": [],
   "source": [
    "(pi3, phi3) = EM(words, 30, E_multi, M_multi, theta=(pi2, phi2), iters=4)"
   ]
  },
  {
   "cell_type": "code",
   "execution_count": 118,
   "metadata": {
    "collapsed": false
   },
   "outputs": [],
   "source": [
    "voca = np.array([line.strip() for line in open('data/vocab.nips.txt')], dtype='|S20')"
   ]
  },
  {
   "cell_type": "code",
   "execution_count": 117,
   "metadata": {
    "collapsed": false
   },
   "outputs": [
    {
     "name": "stdout",
     "output_type": "stream",
     "text": [
      "cost data early ebd function obd set stopping weight\n",
      "architecture component distribution information input layer learning network order output\n",
      "character classes classifier error net neural output recognition training word\n",
      "compression data energy filter image model mrf number output\n",
      "algorithm alignment hmm length model protein sequence sequences states\n",
      "activity diffusion grouping input layer local maxima motion nadel network\n",
      "committee error network neural output performance signal task training unit\n",
      "active data learner learning model network neural variance\n",
      "information input learning neuron point stationary vector weight\n",
      "camera head input network neural system video\n",
      "=======\n",
      "algorithm error function input learning network set training vector weight\n",
      "component distribution function information input learning model network order output\n",
      "classifier model network neural recognition set speech system training word\n",
      "data function information model network neural neuron point signal system\n",
      "action algorithm function learning model optimal policy problem reinforcement system\n",
      "cell direction field input model motion network neuron orientation visual\n",
      "algorithm input learning network neural output set training unit weight\n",
      "algorithm data distribution function learning method model network parameter set\n",
      "function input learning model network neural neuron synaptic system weight\n",
      "image input learning model network neural object system unit visual\n"
     ]
    }
   ],
   "source": [
    "def show_topic(colum, n):\n",
    "    nth = np.partition(-colum,n)[n]\n",
    "    return sorted(voca[colum>-nth])\n",
    "def problem3(phi):\n",
    "    for i in range(phi.shape[0]):\n",
    "        print(\" \".join(map(lambda x: x.decode('utf-8'), show_topic(phi[i], 10))))\n",
    "problem3(phi2)\n",
    "print(\"=======\")\n",
    "problem3(phi3)"
   ]
  },
  {
   "cell_type": "code",
   "execution_count": 156,
   "metadata": {
    "collapsed": false
   },
   "outputs": [
    {
     "name": "stdout",
     "output_type": "stream",
     "text": [
      "[ 0.136       0.01466667  0.04866667  0.172       0.07066667  0.06\n",
      "  0.16466667  0.156       0.08666667  0.09066667]\n"
     ]
    },
    {
     "data": {
      "text/plain": [
       "[<matplotlib.lines.Line2D at 0x10f4c8278>]"
      ]
     },
     "execution_count": 156,
     "metadata": {},
     "output_type": "execute_result"
    },
    {
     "data": {
      "image/png": "[encoded data removed]",
      "text/plain": [
       "<matplotlib.figure.Figure at 0x10b8d4390>"
      ]
     },
     "metadata": {},
     "output_type": "display_data"
    }
   ],
   "source": [
    "def prob(x, phi, pi):\n",
    "    w = np.log(phi).dot(x.T)+np.log(pi).reshape((-1,1))\n",
    "    pos = np.argmax(w, axis=0).reshape(x.shape[0])\n",
    "    p = np.bincount(pos)\n",
    "    p = p /sum(p)\n",
    "    return p\n",
    "print(prob(words, phi3, pi3))\n",
    "from matplotlib import pyplot\n",
    "pyplot.plot(prob(words, phi3, pi3))"
   ]
  },
  {
   "cell_type": "code",
   "execution_count": 163,
   "metadata": {
    "collapsed": false
   },
   "outputs": [
    {
     "data": {
      "text/plain": [
       "{}"
      ]
     },
     "execution_count": 163,
     "metadata": {},
     "output_type": "execute_result"
    }
   ],
   "source": [
    "# imshow(data[pic].reshape(dshape[(pic, r)]))\n",
    "# imshow(data[pic].reshape(dshape[pic]))\n",
    "theta"
   ]
  }
 ],
 "metadata": {
  "kernelspec": {
   "display_name": "Python 3",
   "language": "python",
   "name": "python3"
  },
  "language_info": {
   "codemirror_mode": {
    "name": "ipython",
    "version": 3
   },
   "file_extension": ".py",
   "mimetype": "text/x-python",
   "name": "python",
   "nbconvert_exporter": "python",
   "pygments_lexer": "ipython3",
   "version": "3.5.1"
  }
 },
 "nbformat": 4,
 "nbformat_minor": 0
}
